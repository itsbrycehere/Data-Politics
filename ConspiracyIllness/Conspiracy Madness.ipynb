{
 "cells": [
  {
   "cell_type": "markdown",
   "metadata": {},
   "source": [
    "**Conspiracy & Madness**"
   ]
  },
  {
   "cell_type": "markdown",
   "metadata": {},
   "source": [
    "___"
   ]
  },
  {
   "cell_type": "markdown",
   "metadata": {},
   "source": [
    "bring the tools in"
   ]
  },
  {
   "cell_type": "code",
   "execution_count": 16,
   "metadata": {
    "collapsed": true
   },
   "outputs": [],
   "source": [
    "#Modules\n",
    "import json\n",
    "import tweepy\n",
    "import pandas as pd\n",
    "import numpy as np\n",
    "\n",
    "#Visualization\n",
    "from IPython.display import display\n",
    "import matplotlib.pyplot as plt\n",
    "import seaborn as sns\n",
    "%matplotlib inline"
   ]
  },
  {
   "cell_type": "markdown",
   "metadata": {},
   "source": [
    "___"
   ]
  },
  {
   "cell_type": "markdown",
   "metadata": {},
   "source": [
    "Build the Big Dataframe"
   ]
  },
  {
   "cell_type": "code",
   "execution_count": 18,
   "metadata": {
    "collapsed": true
   },
   "outputs": [],
   "source": [
    "trump = pd.read_json(\"TrumpTweets_061615-010518.json\")"
   ]
  },
  {
   "cell_type": "code",
   "execution_count": 21,
   "metadata": {},
   "outputs": [
    {
     "data": {
      "text/html": [
       "<div>\n",
       "<style>\n",
       "    .dataframe thead tr:only-child th {\n",
       "        text-align: right;\n",
       "    }\n",
       "\n",
       "    .dataframe thead th {\n",
       "        text-align: left;\n",
       "    }\n",
       "\n",
       "    .dataframe tbody tr th {\n",
       "        vertical-align: top;\n",
       "    }\n",
       "</style>\n",
       "<table border=\"1\" class=\"dataframe\">\n",
       "  <thead>\n",
       "    <tr style=\"text-align: right;\">\n",
       "      <th></th>\n",
       "      <th>created_at</th>\n",
       "      <th>favorite_count</th>\n",
       "      <th>id_str</th>\n",
       "      <th>is_retweet</th>\n",
       "      <th>retweet_count</th>\n",
       "      <th>source</th>\n",
       "      <th>text</th>\n",
       "    </tr>\n",
       "  </thead>\n",
       "  <tbody>\n",
       "    <tr>\n",
       "      <th>0</th>\n",
       "      <td>2018-01-05 04:04:20</td>\n",
       "      <td>87691</td>\n",
       "      <td>949129410208202752</td>\n",
       "      <td>False</td>\n",
       "      <td>20263</td>\n",
       "      <td>Twitter for iPhone</td>\n",
       "      <td>The Fake News Media barely mentions the fact t...</td>\n",
       "    </tr>\n",
       "    <tr>\n",
       "      <th>1</th>\n",
       "      <td>2018-01-05 03:52:53</td>\n",
       "      <td>69442</td>\n",
       "      <td>949126530839572480</td>\n",
       "      <td>False</td>\n",
       "      <td>17441</td>\n",
       "      <td>Twitter for iPhone</td>\n",
       "      <td>I authorized Zero access to White House (actua...</td>\n",
       "    </tr>\n",
       "    <tr>\n",
       "      <th>2</th>\n",
       "      <td>2018-01-05 00:11:26</td>\n",
       "      <td>67468</td>\n",
       "      <td>949070800417640448</td>\n",
       "      <td>False</td>\n",
       "      <td>16437</td>\n",
       "      <td>Twitter for iPhone</td>\n",
       "      <td>MAKING AMERICA GREAT AGAIN! https://t.co/iONbr...</td>\n",
       "    </tr>\n",
       "    <tr>\n",
       "      <th>3</th>\n",
       "      <td>2018-01-04 23:53:05</td>\n",
       "      <td>106456</td>\n",
       "      <td>949066181381632000</td>\n",
       "      <td>False</td>\n",
       "      <td>24785</td>\n",
       "      <td>Twitter for iPhone</td>\n",
       "      <td>Thank you to the great Republican Senators who...</td>\n",
       "    </tr>\n",
       "    <tr>\n",
       "      <th>4</th>\n",
       "      <td>2018-01-04 15:48:04</td>\n",
       "      <td>104923</td>\n",
       "      <td>948944124132167680</td>\n",
       "      <td>False</td>\n",
       "      <td>21760</td>\n",
       "      <td>Twitter for iPhone</td>\n",
       "      <td>Dow just crashes through 25,000. Congrats! Big...</td>\n",
       "    </tr>\n",
       "  </tbody>\n",
       "</table>\n",
       "</div>"
      ],
      "text/plain": [
       "           created_at  favorite_count              id_str  is_retweet  \\\n",
       "0 2018-01-05 04:04:20           87691  949129410208202752       False   \n",
       "1 2018-01-05 03:52:53           69442  949126530839572480       False   \n",
       "2 2018-01-05 00:11:26           67468  949070800417640448       False   \n",
       "3 2018-01-04 23:53:05          106456  949066181381632000       False   \n",
       "4 2018-01-04 15:48:04          104923  948944124132167680       False   \n",
       "\n",
       "   retweet_count              source  \\\n",
       "0          20263  Twitter for iPhone   \n",
       "1          17441  Twitter for iPhone   \n",
       "2          16437  Twitter for iPhone   \n",
       "3          24785  Twitter for iPhone   \n",
       "4          21760  Twitter for iPhone   \n",
       "\n",
       "                                                text  \n",
       "0  The Fake News Media barely mentions the fact t...  \n",
       "1  I authorized Zero access to White House (actua...  \n",
       "2  MAKING AMERICA GREAT AGAIN! https://t.co/iONbr...  \n",
       "3  Thank you to the great Republican Senators who...  \n",
       "4  Dow just crashes through 25,000. Congrats! Big...  "
      ]
     },
     "execution_count": 21,
     "metadata": {},
     "output_type": "execute_result"
    }
   ],
   "source": [
    "trump.head()"
   ]
  },
  {
   "cell_type": "code",
   "execution_count": 22,
   "metadata": {},
   "outputs": [
    {
     "data": {
      "text/html": [
       "<div>\n",
       "<style>\n",
       "    .dataframe thead tr:only-child th {\n",
       "        text-align: right;\n",
       "    }\n",
       "\n",
       "    .dataframe thead th {\n",
       "        text-align: left;\n",
       "    }\n",
       "\n",
       "    .dataframe tbody tr th {\n",
       "        vertical-align: top;\n",
       "    }\n",
       "</style>\n",
       "<table border=\"1\" class=\"dataframe\">\n",
       "  <thead>\n",
       "    <tr style=\"text-align: right;\">\n",
       "      <th></th>\n",
       "      <th>created_at</th>\n",
       "      <th>favorite_count</th>\n",
       "      <th>id_str</th>\n",
       "      <th>is_retweet</th>\n",
       "      <th>retweet_count</th>\n",
       "      <th>source</th>\n",
       "      <th>text</th>\n",
       "    </tr>\n",
       "  </thead>\n",
       "  <tbody>\n",
       "    <tr>\n",
       "      <th>10667</th>\n",
       "      <td>2015-06-16 07:29:11</td>\n",
       "      <td>36</td>\n",
       "      <td>610710697140441088</td>\n",
       "      <td>False</td>\n",
       "      <td>15</td>\n",
       "      <td>Twitter for Android</td>\n",
       "      <td>\"@PianoBecca: @realDonaldTrumpÂ No Amercian, r...</td>\n",
       "    </tr>\n",
       "    <tr>\n",
       "      <th>10668</th>\n",
       "      <td>2015-06-16 07:28:54</td>\n",
       "      <td>34</td>\n",
       "      <td>610710626269306880</td>\n",
       "      <td>False</td>\n",
       "      <td>9</td>\n",
       "      <td>Twitter for Android</td>\n",
       "      <td>\"@DONJUBBER: @realDonaldTrump Shock the world!...</td>\n",
       "    </tr>\n",
       "    <tr>\n",
       "      <th>10669</th>\n",
       "      <td>2015-06-16 07:28:37</td>\n",
       "      <td>63</td>\n",
       "      <td>610710557285556224</td>\n",
       "      <td>False</td>\n",
       "      <td>25</td>\n",
       "      <td>Twitter for Android</td>\n",
       "      <td>\"@insuraider: @realDonaldTrump is going to mak...</td>\n",
       "    </tr>\n",
       "    <tr>\n",
       "      <th>10670</th>\n",
       "      <td>2015-06-16 07:04:19</td>\n",
       "      <td>105</td>\n",
       "      <td>610704441872883712</td>\n",
       "      <td>False</td>\n",
       "      <td>55</td>\n",
       "      <td>Twitter for Android</td>\n",
       "      <td>\"@brentcfritz: Today is the day America become...</td>\n",
       "    </tr>\n",
       "    <tr>\n",
       "      <th>10671</th>\n",
       "      <td>2015-06-16 07:04:03</td>\n",
       "      <td>75</td>\n",
       "      <td>610704372415229952</td>\n",
       "      <td>False</td>\n",
       "      <td>35</td>\n",
       "      <td>Twitter for Android</td>\n",
       "      <td>\"@realJoeMurray: Hopefully tomorrow is the day...</td>\n",
       "    </tr>\n",
       "  </tbody>\n",
       "</table>\n",
       "</div>"
      ],
      "text/plain": [
       "               created_at  favorite_count              id_str  is_retweet  \\\n",
       "10667 2015-06-16 07:29:11              36  610710697140441088       False   \n",
       "10668 2015-06-16 07:28:54              34  610710626269306880       False   \n",
       "10669 2015-06-16 07:28:37              63  610710557285556224       False   \n",
       "10670 2015-06-16 07:04:19             105  610704441872883712       False   \n",
       "10671 2015-06-16 07:04:03              75  610704372415229952       False   \n",
       "\n",
       "       retweet_count               source  \\\n",
       "10667             15  Twitter for Android   \n",
       "10668              9  Twitter for Android   \n",
       "10669             25  Twitter for Android   \n",
       "10670             55  Twitter for Android   \n",
       "10671             35  Twitter for Android   \n",
       "\n",
       "                                                    text  \n",
       "10667  \"@PianoBecca: @realDonaldTrumpÂ No Amercian, r...  \n",
       "10668  \"@DONJUBBER: @realDonaldTrump Shock the world!...  \n",
       "10669  \"@insuraider: @realDonaldTrump is going to mak...  \n",
       "10670  \"@brentcfritz: Today is the day America become...  \n",
       "10671  \"@realJoeMurray: Hopefully tomorrow is the day...  "
      ]
     },
     "execution_count": 22,
     "metadata": {},
     "output_type": "execute_result"
    }
   ],
   "source": [
    "trump.tail()"
   ]
  },
  {
   "cell_type": "code",
   "execution_count": 23,
   "metadata": {},
   "outputs": [
    {
     "data": {
      "text/plain": [
       "RangeIndex(start=0, stop=10672, step=1)"
      ]
     },
     "execution_count": 23,
     "metadata": {},
     "output_type": "execute_result"
    }
   ],
   "source": [
    "trump.index"
   ]
  },
  {
   "cell_type": "code",
   "execution_count": 25,
   "metadata": {},
   "outputs": [
    {
     "data": {
      "text/plain": [
       "(10672, 7)"
      ]
     },
     "execution_count": 25,
     "metadata": {},
     "output_type": "execute_result"
    }
   ],
   "source": [
    "trump.shape"
   ]
  },
  {
   "cell_type": "code",
   "execution_count": 26,
   "metadata": {},
   "outputs": [
    {
     "data": {
      "text/plain": [
       "Index(['created_at', 'favorite_count', 'id_str', 'is_retweet', 'retweet_count',\n",
       "       'source', 'text'],\n",
       "      dtype='object')"
      ]
     },
     "execution_count": 26,
     "metadata": {},
     "output_type": "execute_result"
    }
   ],
   "source": [
    "trump.columns"
   ]
  },
  {
   "cell_type": "code",
   "execution_count": 27,
   "metadata": {},
   "outputs": [
    {
     "data": {
      "text/plain": [
       "created_at        datetime64[ns]\n",
       "favorite_count             int64\n",
       "id_str                     int64\n",
       "is_retweet                  bool\n",
       "retweet_count              int64\n",
       "source                    object\n",
       "text                      object\n",
       "dtype: object"
      ]
     },
     "execution_count": 27,
     "metadata": {},
     "output_type": "execute_result"
    }
   ],
   "source": [
    "trump.dtypes"
   ]
  },
  {
   "cell_type": "code",
   "execution_count": 32,
   "metadata": {},
   "outputs": [
    {
     "data": {
      "text/plain": [
       "count                         10672\n",
       "unique                        10650\n",
       "top       MAKE AMERICA GREAT AGAIN!\n",
       "freq                             16\n",
       "Name: text, dtype: object"
      ]
     },
     "execution_count": 32,
     "metadata": {},
     "output_type": "execute_result"
    }
   ],
   "source": [
    "trump.text.describe()"
   ]
  },
  {
   "cell_type": "code",
   "execution_count": 34,
   "metadata": {},
   "outputs": [
    {
     "name": "stdout",
     "output_type": "stream",
     "text": [
      "27637.911731634184\n",
      "8031.284201649175\n"
     ]
    }
   ],
   "source": [
    "print(trump.favorite_count.mean())\n",
    "print(trump.retweet_count.mean())"
   ]
  },
  {
   "cell_type": "markdown",
   "metadata": {},
   "source": [
    "___"
   ]
  },
  {
   "cell_type": "markdown",
   "metadata": {},
   "source": [
    "Build specific dataframes for analysis"
   ]
  },
  {
   "cell_type": "code",
   "execution_count": 54,
   "metadata": {},
   "outputs": [
    {
     "data": {
      "text/plain": [
       "(10174, 7)"
      ]
     },
     "execution_count": 54,
     "metadata": {},
     "output_type": "execute_result"
    }
   ],
   "source": [
    "#limit dataframe to only original tweets\n",
    "trump_originals = trump[trump.is_retweet == False]\n",
    "trump_originals.shape\n"
   ]
  },
  {
   "cell_type": "code",
   "execution_count": 70,
   "metadata": {},
   "outputs": [
    {
     "name": "stderr",
     "output_type": "stream",
     "text": [
      "C:\\ProgramData\\Anaconda3\\lib\\site-packages\\ipykernel_launcher.py:1: SettingWithCopyWarning: \n",
      "A value is trying to be set on a copy of a slice from a DataFrame.\n",
      "Try using .loc[row_indexer,col_indexer] = value instead\n",
      "\n",
      "See the caveats in the documentation: http://pandas.pydata.org/pandas-docs/stable/indexing.html#indexing-view-versus-copy\n",
      "  \"\"\"Entry point for launching an IPython kernel.\n"
     ]
    }
   ],
   "source": [
    "#change the case of the text in tweets to consistently search for key terms\n",
    "trump_origitnals[\"lText\"] = trump_o[\"text\"].map(lambda x: x if type(x)!=str else x.lower())"
   ]
  },
  {
   "cell_type": "code",
   "execution_count": 122,
   "metadata": {},
   "outputs": [
    {
     "data": {
      "text/plain": [
       "(10174, 1)"
      ]
     },
     "execution_count": 122,
     "metadata": {},
     "output_type": "execute_result"
    }
   ],
   "source": [
    "#Drop all of the unnecessary columns for thinking about reliance on conspiracy\n",
    "trump_o.drop(\"text\", axis = 1)\n",
    "trump_con = trump_o.drop([\"favorite_count\", \"text\", \"id_str\", \"is_retweet\", \"retweet_count\", \"source\", \"created_at\"], axis = 1)\n",
    "trump_con.shape"
   ]
  },
  {
   "cell_type": "code",
   "execution_count": 123,
   "metadata": {
    "collapsed": true
   },
   "outputs": [],
   "source": [
    "#Create a list of popular trump conspiracies, taken from: https://www.alternet.org/right-wing/58-donald-trump-conspiracy-theories-and-counting-definitive-trump-conspiracy-guide\n",
    "TC = [\"birth certificate\", \"birthcertificate\", \"benghazi\", \"whitewater\", \"jfk\", \"fake news\", \"fakenews\", \"deep state\", \"deepstate\", \"global warming\", \"globalwarming\",\"vaccines\",\"autism\"]\n"
   ]
  },
  {
   "cell_type": "code",
   "execution_count": 124,
   "metadata": {},
   "outputs": [
    {
     "name": "stdout",
     "output_type": "stream",
     "text": [
      "       conspiracy                                              lText\n",
      "0           False  the fake news media barely mentions the fact t...\n",
      "1           False  i authorized zero access to white house (actua...\n",
      "2           False  making america great again! https://t.co/ionbr...\n",
      "3           False  thank you to the great republican senators who...\n",
      "4           False  dow just crashes through 25,000. congrats! big...\n",
      "5           False  so beautiful....show this picture to the nfl p...\n",
      "6           False  with all of the failed â€œexpertsâ€� weighing ...\n",
      "7           False  as americans, you need identification, sometim...\n",
      "8           False  many mostly democrat states refused to hand ov...\n",
      "9           False                          make america great again!\n",
      "10          False  stock market had another good day but, now tha...\n",
      "11          False  â€œsome 40 u.s. companies have responded to pr...\n",
      "12          False  melania and i are deeply saddened by the death...\n",
      "13          False  such respect for the people of iran as they tr...\n",
      "14          False  â€œpresident trump has something now he didnâ€...\n",
      "15          False            watch @seanhannity tonight at 9:00 p.m.\n",
      "16          False  i will be announcing the most dishonest &amp; ...\n",
      "17          False  north korean leader kim jong un just stated th...\n",
      "18          False  ...peace treaty with israel. we have taken jer...\n",
      "19          False  it's not only pakistan that we pay billions of...\n",
      "20          False  congratulations to senator orrin hatch on an a...\n",
      "21          False  we will not rest until all of americaâ€™s grea...\n",
      "22          False  democrats are doing nothing for daca - just in...\n",
      "23          False  ....impartial journalists of a much higher sta...\n",
      "24          False  the failing new york times has a new publisher...\n",
      "25          False  since taking office i have been very strict on...\n",
      "26          False  sanctions and â€œotherâ€� pressures are beginn...\n",
      "27          False  companies are giving big bonuses to their work...\n",
      "28          False  thank you to brandon judd of the national bord...\n",
      "29          False  crooked hillary clintonâ€™s top aid, huma abed...\n",
      "...           ...                                                ...\n",
      "10642       False  today i officially declared my candidacy for p...\n",
      "10643       False               thanks eric. https://t.co/phubatvq8d\n",
      "10644       False     #makeamericagreatagain https://t.co/jguvmqxqwa\n",
      "10645       False  i am officially running for president of the u...\n",
      "10646       False  live on #periscope: major announcement! #makea...\n",
      "10647       False  thanks geraldo, you're a champion. https://t.c...\n",
      "10648       False  11am #makeamericagreatagain https://t.co/445bo...\n",
      "10649       False  make sure to follow me on @periscopeco. i will...\n",
      "10650       False  in one hour i will be making a major announcem...\n",
      "10651       False  make sure to follow me on @periscopeco #makeam...\n",
      "10652       False  it is almost time. i will be making a major an...\n",
      "10653       False  \"@appsame we are going to listen @realdonaldtr...\n",
      "10654       False                    thanks. https://t.co/ezfgroy1hn\n",
      "10655       False  big time in u.s. today - make america great ag...\n",
      "10656       False  \"@jaketapper: donaldtrump in iowa says \"i have...\n",
      "10657       False  \"@davidsbaldwin: @realdonaldtrump today's the ...\n",
      "10658       False  \"@desheay: @realdonaldtrump your twitter banne...\n",
      "10659       False  \"@premuse: @realdonaldtrump let's take this co...\n",
      "10660       False  \"@jarod_pitmon10: i am a full supporter of #tr...\n",
      "10661       False  \"@nickyflash2: #trump4president #trump2016 @re...\n",
      "10662       False  \"@rhumeey: i really would want to see what ame...\n",
      "10663       False  \"@rg_radical99: counting down the hours to @re...\n",
      "10664       False  \"@_snurk: @realdonaldtrumpâ love it! always re...\n",
      "10665       False  \"@knight276: @realdonaldtrump @realjoemurray a...\n",
      "10666       False  \"@isabelsimon80: @realdonaldtrump @brentcfritz...\n",
      "10667       False  \"@pianobecca: @realdonaldtrumpâ no amercian, r...\n",
      "10668       False  \"@donjubber: @realdonaldtrump shock the world!...\n",
      "10669       False  \"@insuraider: @realdonaldtrump is going to mak...\n",
      "10670       False  \"@brentcfritz: today is the day america become...\n",
      "10671       False  \"@realjoemurray: hopefully tomorrow is the day...\n",
      "\n",
      "[10174 rows x 2 columns]\n"
     ]
    }
   ],
   "source": [
    "trump_con.insert(0, \"conspiracy\", trump_con[\"lText\"].isin(TC))\n",
    "print (trump_con)"
   ]
  },
  {
   "cell_type": "code",
   "execution_count": 113,
   "metadata": {},
   "outputs": [
    {
     "data": {
      "text/plain": [
       "10174"
      ]
     },
     "execution_count": 113,
     "metadata": {},
     "output_type": "execute_result"
    }
   ],
   "source": []
  },
  {
   "cell_type": "code",
   "execution_count": null,
   "metadata": {
    "collapsed": true
   },
   "outputs": [],
   "source": []
  }
 ],
 "metadata": {
  "kernelspec": {
   "display_name": "Python 3",
   "language": "python",
   "name": "python3"
  },
  "language_info": {
   "codemirror_mode": {
    "name": "ipython",
    "version": 3
   },
   "file_extension": ".py",
   "mimetype": "text/x-python",
   "name": "python",
   "nbconvert_exporter": "python",
   "pygments_lexer": "ipython3",
   "version": "3.6.2"
  }
 },
 "nbformat": 4,
 "nbformat_minor": 2
}
