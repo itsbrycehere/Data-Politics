{
 "cells": [
  {
   "cell_type": "code",
   "execution_count": 2,
   "metadata": {
    "collapsed": true
   },
   "outputs": [],
   "source": [
    "#modules, packages, librarires, w/e\n",
    "import json\n",
    "import praw\n",
    "import pandas as pd\n",
    "import numpy as np"
   ]
  },
  {
   "cell_type": "code",
   "execution_count": 3,
   "metadata": {
    "collapsed": true
   },
   "outputs": [],
   "source": [
    "#authentication\n",
    "rdt = praw.Reddit(client_id = \"pQEs3XNh9qeOeg\", client_secret = \"Nkxg4zCDc9BYC2jYYIO9CTVZOu0\", password = \"rNHLxduk456\",\n",
    "                  username = \"itsbrycehere\", user_agent = \"/u/itsbryceher looking at the conspiracy stuff\")\n"
   ]
  },
  {
   "cell_type": "markdown",
   "metadata": {},
   "source": [
    "posts = list()\n",
    "source = list()\n",
    "text = list()\n",
    "sub_r = rdt.subreddit(\"conspiracy\")\n",
    "for sub in sub_r.new(limit = 10000):\n",
    "    if sub is not None:\n",
    "        posts.append(sub.title)\n",
    "        source.append(sub)\n",
    "        text.append(sub.selftext)\n",
    "    else:\n",
    "        text.append(None)\n",
    "print(len(posts))\n",
    "print(len(source))\n",
    "print(len(text))"
   ]
  },
  {
   "cell_type": "code",
   "execution_count": 4,
   "metadata": {},
   "outputs": [
    {
     "name": "stdout",
     "output_type": "stream",
     "text": [
      "6132\n",
      "6132\n",
      "6132\n",
      "6132\n",
      "6132\n"
     ]
    }
   ],
   "source": [
    "posts = list()\n",
    "source = list()\n",
    "text = list()\n",
    "author = list()\n",
    "crossposts = list()\n",
    "time = list()\n",
    "sub_r = rdt.subreddit(\"conspiracy\")\n",
    "for sub in sub_r.submissions(1514764800, 1517875200):\n",
    "    if sub is not None:\n",
    "        posts.append(sub.title)\n",
    "        source.append(sub)\n",
    "        text.append(sub.selftext)\n",
    "        author.append(sub.author)\n",
    "        crossposts.append(sub.num_crossposts)\n",
    "        time.append(sub.created)\n",
    "    else:\n",
    "        text.append(None)\n",
    "        crossposts.append(None)\n",
    "        time.append(None)\n",
    "print(len(posts))\n",
    "print(len(source))\n",
    "print(len(text))\n",
    "print(len(author))\n",
    "print(len(time))"
   ]
  },
  {
   "cell_type": "code",
   "execution_count": 7,
   "metadata": {},
   "outputs": [],
   "source": [
    "conspiracy_reddit = pd.DataFrame(np.column_stack((time, posts, text, author, source)), columns = [\"time\", \"posts\", \"text\", \"author\", \"source\"])"
   ]
  },
  {
   "cell_type": "code",
   "execution_count": 10,
   "metadata": {},
   "outputs": [
    {
     "data": {
      "text/html": [
       "<div>\n",
       "<style>\n",
       "    .dataframe thead tr:only-child th {\n",
       "        text-align: right;\n",
       "    }\n",
       "\n",
       "    .dataframe thead th {\n",
       "        text-align: left;\n",
       "    }\n",
       "\n",
       "    .dataframe tbody tr th {\n",
       "        vertical-align: top;\n",
       "    }\n",
       "</style>\n",
       "<table border=\"1\" class=\"dataframe\">\n",
       "  <thead>\n",
       "    <tr style=\"text-align: right;\">\n",
       "      <th></th>\n",
       "      <th>time</th>\n",
       "      <th>posts</th>\n",
       "      <th>text</th>\n",
       "      <th>author</th>\n",
       "      <th>source</th>\n",
       "    </tr>\n",
       "  </thead>\n",
       "  <tbody>\n",
       "    <tr>\n",
       "      <th>0</th>\n",
       "      <td>1970-01-18 13:38:23.242</td>\n",
       "      <td>House panel clears release of Democrats’ rebut...</td>\n",
       "      <td></td>\n",
       "      <td>hurtsdonut_</td>\n",
       "      <td>7vj5j1</td>\n",
       "    </tr>\n",
       "    <tr>\n",
       "      <th>1</th>\n",
       "      <td>1970-01-18 13:38:22.359</td>\n",
       "      <td>Old School r/conspiracy. What this sub thought...</td>\n",
       "      <td></td>\n",
       "      <td>naturalproducer</td>\n",
       "      <td>7vj1wd</td>\n",
       "    </tr>\n",
       "    <tr>\n",
       "      <th>2</th>\n",
       "      <td>1970-01-18 13:38:21.695</td>\n",
       "      <td>Non-partisan take on FISA memo - Ron Paul</td>\n",
       "      <td></td>\n",
       "      <td>stainless_hardened3</td>\n",
       "      <td>7viz5y</td>\n",
       "    </tr>\n",
       "    <tr>\n",
       "      <th>3</th>\n",
       "      <td>1970-01-18 13:38:21.036</td>\n",
       "      <td>Trump’s ‘State of the Union’ raised trade war ...</td>\n",
       "      <td></td>\n",
       "      <td>Jigglycheesepuff</td>\n",
       "      <td>7viwdl</td>\n",
       "    </tr>\n",
       "    <tr>\n",
       "      <th>4</th>\n",
       "      <td>1970-01-18 13:38:21.035</td>\n",
       "      <td>Looks Like Carter Page (inside the Trump Campa...</td>\n",
       "      <td>https://theconservativetreehouse.com/2018/02/0...</td>\n",
       "      <td>Patreut</td>\n",
       "      <td>7viwdi</td>\n",
       "    </tr>\n",
       "  </tbody>\n",
       "</table>\n",
       "</div>"
      ],
      "text/plain": [
       "                     time                                              posts  \\\n",
       "0 1970-01-18 13:38:23.242  House panel clears release of Democrats’ rebut...   \n",
       "1 1970-01-18 13:38:22.359  Old School r/conspiracy. What this sub thought...   \n",
       "2 1970-01-18 13:38:21.695          Non-partisan take on FISA memo - Ron Paul   \n",
       "3 1970-01-18 13:38:21.036  Trump’s ‘State of the Union’ raised trade war ...   \n",
       "4 1970-01-18 13:38:21.035  Looks Like Carter Page (inside the Trump Campa...   \n",
       "\n",
       "                                                text               author  \\\n",
       "0                                                             hurtsdonut_   \n",
       "1                                                         naturalproducer   \n",
       "2                                                     stainless_hardened3   \n",
       "3                                                        Jigglycheesepuff   \n",
       "4  https://theconservativetreehouse.com/2018/02/0...              Patreut   \n",
       "\n",
       "   source  \n",
       "0  7vj5j1  \n",
       "1  7vj1wd  \n",
       "2  7viz5y  \n",
       "3  7viwdl  \n",
       "4  7viwdi  "
      ]
     },
     "execution_count": 10,
     "metadata": {},
     "output_type": "execute_result"
    }
   ],
   "source": [
    "import datetime\n",
    "\n",
    "conspiracy_reddit[\"time\"] = (pd.to_datetime(conspiracy_reddit[\"time\"],unit=\"ms\"))\n",
    "conspiracy_reddit.head()"
   ]
  },
  {
   "cell_type": "code",
   "execution_count": 15,
   "metadata": {
    "collapsed": true
   },
   "outputs": [],
   "source": [
    "conspiracy_reddit.to_csv(\"redditcons\", sep='\\t', encoding='utf-8')"
   ]
  },
  {
   "cell_type": "code",
   "execution_count": null,
   "metadata": {
    "collapsed": true
   },
   "outputs": [],
   "source": []
  }
 ],
 "metadata": {
  "kernelspec": {
   "display_name": "Python 3",
   "language": "python",
   "name": "python3"
  },
  "language_info": {
   "codemirror_mode": {
    "name": "ipython",
    "version": 3
   },
   "file_extension": ".py",
   "mimetype": "text/x-python",
   "name": "python",
   "nbconvert_exporter": "python",
   "pygments_lexer": "ipython3",
   "version": "3.6.2"
  }
 },
 "nbformat": 4,
 "nbformat_minor": 2
}
